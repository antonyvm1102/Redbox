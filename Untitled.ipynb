{
 "cells": [
  {
   "cell_type": "code",
   "execution_count": 5,
   "metadata": {},
   "outputs": [],
   "source": [
    "import numpy as np\n",
    "import pandas as pd\n",
    "import time as time\n",
    "import sys "
   ]
  },
  {
   "cell_type": "code",
   "execution_count": 6,
   "metadata": {},
   "outputs": [],
   "source": [
    "file = r\"C:\\Users\\mdk\\Desktop\\93307\\Ruwe trillingsdata\\positie_1\\20181001112633000195.txt\"\n",
    "\n",
    "start = time.time()\n",
    "data = pd.read_csv(file,sep=' ',comment= '#', header = None,names=('t','x','y','z'))\n",
    "elapsed_time = time.time()-start\n",
    "df =data.iloc[:,1]"
   ]
  },
  {
   "cell_type": "code",
   "execution_count": 8,
   "metadata": {
    "scrolled": true
   },
   "outputs": [
    {
     "name": "stdout",
     "output_type": "stream",
     "text": [
      "compute v_eff\n",
      "[++++++++++++++++++++++++++++++++++++++++++++++++++++++++++++] 100.0% ...processing 89999 of 900001078.1593658924103\n"
     ]
    }
   ],
   "source": [
    "def progress(count, total, status=''):\n",
    "    bar_len = 60\n",
    "    filled_len = int(round(bar_len * count / float(total)))\n",
    "\n",
    "    percents = round(100.0 * float(count) / float(total), 2)\n",
    "    bar = '+' * filled_len + '-' * (bar_len - filled_len)\n",
    "\n",
    "    sys.stdout.write('\\r[%s] %s%s ...%s' % (bar, percents, '%', status))\n",
    "    sys.stdout.flush()\n",
    "    \n",
    "def compute_veff_sbr(v,T,Ts=0.125, a=8):\n",
    "    \"\"\"\n",
    "    :param =df =  vels (mm/s)\n",
    "    :param = T = sample space (s)\n",
    "    :param a = each a'th sample is used\n",
    "    \"\"\"\n",
    "    l = int(np.log2(v.size)+1) #nth-power\n",
    "    N_org = v.size\n",
    "    N = 2**l\n",
    "    t = np.linspace(0,N*T,N,endpoint=False)\n",
    "    \n",
    "    v = np.pad(v,(0,N-v.size),'constant')\n",
    "    vibrations_fft = np.fft.fft(v)\n",
    "\n",
    "    f = np.linspace(0, 1 / T, N, endpoint=False)\n",
    "    \n",
    "    f_mod=f\n",
    "    f_mod[f<1.0]=0.1\n",
    "\n",
    "    weight = 1 / np.sqrt(1 + (5.6 / f_mod) ** 2)\n",
    "    vibrations_fft_w = weight * vibrations_fft\n",
    "    vibrations_w = np.fft.ifft(vibrations_fft_w).real\n",
    "\n",
    "    t_sel = t[:N_org:a]\n",
    "    vibrations_w = vibrations_w[:N_org:a]\n",
    "    v_sqrd_w = vibrations_w ** 2\n",
    "\n",
    "    v_eff = np.zeros(t_sel.size)\n",
    "    dt = t_sel[1] - t_sel[0]\n",
    "    print('compute v_eff')\n",
    "    for i in range(t_sel.size - 1):\n",
    "        g_xi = np.exp(-t_sel[:i + 1][::-1] / Ts)\n",
    "        v_eff[i] = np.sqrt(1 / Ts * np.trapz(g_xi * v_sqrd_w[:i + 1], dx=dt))\n",
    "        progress(i,t_sel.size-1,\"processing %s of %s\" % (i + 1, t_sel.size))\n",
    "\n",
    "    idx = np.argmax(v_eff)\n",
    "    return v_eff[idx], t_sel, vibrations_w, v_eff\n",
    "\n",
    "start = time.time()\n",
    "compute_veff_sbr(df,T=1/400)\n",
    "elapsed_time = time.time()-start\n",
    "print(elapsed_time)"
   ]
  },
  {
   "cell_type": "code",
   "execution_count": null,
   "metadata": {},
   "outputs": [],
   "source": []
  }
 ],
 "metadata": {
  "kernelspec": {
   "display_name": "Python 3",
   "language": "python",
   "name": "python3"
  },
  "language_info": {
   "codemirror_mode": {
    "name": "ipython",
    "version": 3
   },
   "file_extension": ".py",
   "mimetype": "text/x-python",
   "name": "python",
   "nbconvert_exporter": "python",
   "pygments_lexer": "ipython3",
   "version": "3.7.0"
  }
 },
 "nbformat": 4,
 "nbformat_minor": 2
}
